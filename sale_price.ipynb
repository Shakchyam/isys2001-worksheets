{
  "nbformat": 4,
  "nbformat_minor": 0,
  "metadata": {
    "colab": {
      "name": "sale_price.ipynb",
      "provenance": [],
      "include_colab_link": true
    },
    "kernelspec": {
      "name": "python3",
      "display_name": "Python 3"
    },
    "language_info": {
      "name": "python"
    }
  },
  "cells": [
    {
      "cell_type": "markdown",
      "metadata": {
        "id": "view-in-github",
        "colab_type": "text"
      },
      "source": [
        "<a href=\"https://colab.research.google.com/github/Shakchyam/isys2001-worksheets/blob/main/sale_price.ipynb\" target=\"_parent\"><img src=\"https://colab.research.google.com/assets/colab-badge.svg\" alt=\"Open In Colab\"/></a>"
      ]
    },
    {
      "cell_type": "markdown",
      "metadata": {
        "id": "cgTeiXOtSPjH"
      },
      "source": [
        "# Sales Price\n",
        "\n",
        "A local department store needs to develop a program that will computer the total price (including goods and services tax) of the item on sale when given an item's original price and discount percentage.\n",
        "\n",
        "## Tasks\n",
        "* Save to Github\n",
        "* Design Algorithm\n",
        "* Write and test the program in Python"
      ]
    },
    {
      "cell_type": "code",
      "metadata": {
        "id": "pPIN2ZcrSqdw",
        "colab": {
          "base_uri": "https://localhost:8080/",
          "height": 108
        },
        "outputId": "71da4939-25be-4659-f5e6-fcaeac141878"
      },
      "source": [
        "def calculate total price(original_price, Sisount_pertentage):\n",
        "   Calculates the total price (including GST) of an Item on sale.\n",
        "    Args:\n",
        "     original price (float): The original price of the Item.\n",
        "      discount_percentage (float): The discount percentage (e.g, 20% as 20).\n",
        "       Returns:\n",
        "        float: The total price after applying the discount and adding GST.\n",
        "          #Calculate the discounted price discounted price\n",
        "        discountet_price = orginal_price (1 - discount_percentage / 100)\n",
        "         #ASSURE a fixed GST rate (e-g., 10%)\n",
        "         gst_rate = 10  You can adjust this as nesded\n",
        "          #Calculate the GST amount\n",
        "          GST_amount = discounted price • (Est_rate / 100)\n",
        "          #Calculate the total price (original price minas discount plus GST)\n",
        "           total_price = discounted price + GST amount\n",
        "           return total_price\n",
        "           if __name__==\"__main\":\n",
        "            try:\n",
        "              orginal_price = float(input(\"enter the orginal price;\"))\n",
        "              discount percentage = float (input(\"enter the discount percentage;\"))\n",
        "              total_price = calculate_total_price(Oorginal_price,discount_percentage)\n",
        "              print(+-'total price (including gst):s{total_price:.2f)'\n",
        "              expect valueerror:\n",
        "                    print(\"invalid input.please enter valid numeric values\")\n",
        ""
      ],
      "execution_count": 1,
      "outputs": [
        {
          "output_type": "error",
          "ename": "SyntaxError",
          "evalue": "invalid character '•' (U+2022) (<ipython-input-1-8ae832578f11>, line 13)",
          "traceback": [
            "\u001b[0;36m  File \u001b[0;32m\"<ipython-input-1-8ae832578f11>\"\u001b[0;36m, line \u001b[0;32m13\u001b[0m\n\u001b[0;31m    GST_amount = discounted price • (Est_rate / 100)\u001b[0m\n\u001b[0m                                  ^\u001b[0m\n\u001b[0;31mSyntaxError\u001b[0m\u001b[0;31m:\u001b[0m invalid character '•' (U+2022)\n"
          ]
        }
      ]
    }
  ]
}