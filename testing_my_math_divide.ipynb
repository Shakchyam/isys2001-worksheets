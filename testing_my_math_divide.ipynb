{
  "nbformat": 4,
  "nbformat_minor": 0,
  "metadata": {
    "colab": {
      "provenance": [],
      "include_colab_link": true
    },
    "kernelspec": {
      "name": "python3",
      "display_name": "Python 3"
    },
    "language_info": {
      "name": "python"
    }
  },
  "cells": [
    {
      "cell_type": "markdown",
      "metadata": {
        "id": "view-in-github",
        "colab_type": "text"
      },
      "source": [
        "<a href=\"https://colab.research.google.com/github/Shakchyam/isys2001-worksheets/blob/main/testing_my_math_divide.ipynb\" target=\"_parent\"><img src=\"https://colab.research.google.com/assets/colab-badge.svg\" alt=\"Open In Colab\"/></a>"
      ]
    },
    {
      "cell_type": "markdown",
      "source": [
        "## Testing  my_math.divide()\n",
        "\n",
        "What is your preferred testing strategy? Do you like using the assert statement or prefer doctest?  \n",
        "\n",
        "Using your preferred testing strategy, develop a test table and test the following funciton.  Where required update the function so all test behave as expected.\n",
        "\n",
        "\n",
        "## Function to test"
      ],
      "metadata": {
        "id": "LIfoDVzKX7uK"
      }
    },
    {
      "cell_type": "code",
      "source": [
        "def divide(x, y):\n",
        "    '''Divide first by second number'''\n",
        "    return x / y"
      ],
      "metadata": {
        "id": "YH9gDoOYvKwg"
      },
      "execution_count": null,
      "outputs": []
    },
    {
      "cell_type": "markdown",
      "source": [
        "## Test Table\n",
        "\n",
        "List you test cases here."
      ],
      "metadata": {
        "id": "JYSZ-53nLF6n"
      }
    },
    {
      "cell_type": "code",
      "source": [
        "def test_divide():\n",
        "    test_cases = [\n",
        "\n",
        "        (10, 2, 5.0),\n",
        "        (9, 3, 3.0),\n",
        "        (15, 5, 3.0),\n",
        "\n",
        "\n",
        "        (-10, 2, -5.0),\n",
        "        (10, -2, -5.0),\n",
        "        (-10, -2, 5.0),\n",
        "\n",
        "\n",
        "        (1, 2, 0.5),\n",
        "        (10, 4, 2.5),\n",
        "\n",
        "\n",
        "        (10, 0, None),\n",
        "    ]\n",
        "\n",
        "    for x, y, expected_result in test_cases:\n",
        "        result = divide(x, y)\n",
        "        assert result == expected_result, f\"Expected {expected_result} but got {result} for {x} / {y}\"\n"
      ],
      "metadata": {
        "id": "m0bVrstrDxEJ"
      },
      "execution_count": null,
      "outputs": []
    }
  ]
}